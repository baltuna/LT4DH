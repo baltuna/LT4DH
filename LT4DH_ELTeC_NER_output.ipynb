{
  "nbformat": 4,
  "nbformat_minor": 0,
  "metadata": {
    "colab": {
      "provenance": [],
      "include_colab_link": true
    },
    "kernelspec": {
      "name": "python3",
      "display_name": "Python 3"
    },
    "language_info": {
      "name": "python"
    }
  },
  "cells": [
    {
      "cell_type": "markdown",
      "metadata": {
        "id": "view-in-github",
        "colab_type": "text"
      },
      "source": [
        "<a href=\"https://colab.research.google.com/github/baltuna/LT4DH/blob/main/LT4DH_ELTeC_NER_output.ipynb\" target=\"_parent\"><img src=\"https://colab.research.google.com/assets/colab-badge.svg\" alt=\"Open In Colab\"/></a>"
      ]
    },
    {
      "cell_type": "markdown",
      "metadata": {
        "id": "e9YAgkI8Naco"
      },
      "source": [
        "# Extracting part of speech from ELTeC-ENG\n",
        "\n",
        "Adaptation of a great Colab by Borja Navarro for the LT4DH course in the University of the Basque Country.\n",
        "\n",
        "This version (to be cleaned) uses English resources in contrast to the Spanish one used by Borja Navarro.\n",
        "\n",
        "Original reference here:\n",
        "\n",
        "Borja Navarro Colorado | University of Alicante\n",
        "\n",
        "In this case, the information about part of speech has not been manually annotated in the corpus. It is necessary first analyze the novels with a NLP system and then extract the linguistic information. The NLP system used is [SpaCy](https://spacy.io/).\n",
        "\n",
        "The notebook shows:\n",
        "\n",
        "- how to open a novel from ELTeC in COLAB,\n",
        "- how to activate SpaCy in COLAB,\n",
        "- how to analyze the novel with SpaCy, and\n",
        "- how to extract information about Part of Speec.\n"
      ]
    },
    {
      "cell_type": "markdown",
      "metadata": {
        "id": "Z2j6tERTNTcP"
      },
      "source": [
        "## Loading ELTeC-ENG corpus in Colab"
      ]
    },
    {
      "cell_type": "code",
      "metadata": {
        "id": "Kejn4RdANZEy",
        "outputId": "b8ca2bbe-aea8-4de8-cf3f-0afe48ab28ec",
        "colab": {
          "base_uri": "https://localhost:8080/"
        }
      },
      "source": [
        "import zipfile\n",
        "\n",
        "!wget \"https://github.com/COST-ELTeC/ELTeC-eng/archive/refs/heads/master.zip\" # paste here corpus url\n",
        "\n",
        "zip_ref = zipfile.ZipFile('master.zip', 'r') #Opens the zip file in read mode\n",
        "zip_ref.extractall() #Extracts files here (/content/)\n",
        "zip_ref.close() \n",
        "!rm master.zip #Removes ZIP to save space"
      ],
      "execution_count": null,
      "outputs": [
        {
          "output_type": "stream",
          "name": "stdout",
          "text": [
            "--2023-03-23 16:17:12--  https://github.com/COST-ELTeC/ELTeC-eng/archive/refs/heads/master.zip\n",
            "Resolving github.com (github.com)... 140.82.112.3\n",
            "Connecting to github.com (github.com)|140.82.112.3|:443... connected.\n",
            "HTTP request sent, awaiting response... 302 Found\n",
            "Location: https://codeload.github.com/COST-ELTeC/ELTeC-eng/zip/refs/heads/master [following]\n",
            "--2023-03-23 16:17:12--  https://codeload.github.com/COST-ELTeC/ELTeC-eng/zip/refs/heads/master\n",
            "Resolving codeload.github.com (codeload.github.com)... 140.82.113.10\n",
            "Connecting to codeload.github.com (codeload.github.com)|140.82.113.10|:443... connected.\n",
            "HTTP request sent, awaiting response... 200 OK\n",
            "Length: unspecified [application/zip]\n",
            "Saving to: ‘master.zip’\n",
            "\n",
            "master.zip              [     <=>            ]  91.32M  4.11MB/s    in 22s     \n",
            "\n",
            "2023-03-23 16:17:35 (4.14 MB/s) - ‘master.zip’ saved [95756685]\n",
            "\n"
          ]
        }
      ]
    },
    {
      "cell_type": "markdown",
      "metadata": {
        "id": "eLkW02KoOIX6"
      },
      "source": [
        "## SpaCy: download and installing\n",
        "\n",
        "[SpaCy](https://spacy.io/) is a NLP system. It analyzes part of speech and lemmas, sintax (dependencies) and named entities. \n",
        "\n",
        "Three steps:\n",
        "\n",
        "1. Import SpaCy to Colab\n",
        "2. Download language module (English)\n",
        "3. Activate module\n"
      ]
    },
    {
      "cell_type": "code",
      "metadata": {
        "id": "oNHMbKkERXhI"
      },
      "source": [
        "import spacy\n",
        "\n",
        "!python -m spacy download en_core_web_sm #Download Spanish module (the \"small\" module in this case: \"sm\").\n",
        "\n",
        "import en_core_web_sm\n",
        "nlp_eng = en_core_web_sm.load() #Load Spanish analyzer in \"nlp_esp\"."
      ],
      "execution_count": null,
      "outputs": []
    },
    {
      "cell_type": "markdown",
      "metadata": {
        "id": "Gsk-hIbqRuw5"
      },
      "source": [
        "## Analyzing a novel from ELTeC-ENG\n",
        "\n",
        "Once we have downloaded the corpus and activated SpaCy, let's analyze one novel.\n",
        "\n",
        "First, select from the corpus [ELTeC-ENG](https://github.com/COST-ELTeC/ELTeC-eng/tree/master/level1) a novel and copy the file name. Then paste the name in the variable \"novela_name\". In this example, we will analyze the novel [*Yeast*](https://github.com/COST-ELTeC/ELTeC-eng/tree/master/level1/ENG18510_Kingsley.xml): ENG18510_Kingsley.xml"
      ]
    },
    {
      "cell_type": "code",
      "metadata": {
        "id": "HVJtGl9vRzpq"
      },
      "source": [
        "import os\n",
        "from bs4 import BeautifulSoup\n",
        "\n",
        "novela_name = \"ENG19201_Arlen.xml\" # Put here the name of the file\n",
        "dir_in = \"/content/ELTeC-eng-master/level1/\"\n",
        "\n",
        "novela_text = '' \n",
        "\n",
        "print('Analyzing', novela_name)\n",
        "\n",
        "ficheroEntrada = dir_in + novela_name\n",
        "with open(ficheroEntrada, 'r') as tei: #Opens the file\n",
        "  print(\"Opening the file and extracting text\")\n",
        "  soup = BeautifulSoup(tei, 'xml') #Parse the XML\n",
        "  capitulos = soup.find_all(type=\"chapter\") #Only chapters are taking into account. No letters (To Do)\n",
        "  for cap in capitulos:\n",
        "    parrafos = cap.find_all('p') #Extract all paragraphs of each chapter\n",
        "    for parrafo in parrafos:\n",
        "      #print(parrafo.text)\n",
        "      novela_text+=parrafo.text+'\\n'\n",
        "\n",
        "#print('Analyzing PoS and lemmas')\n",
        "analisis = nlp_eng(novela_text) #Here the novel is analyzed with SpaCy. All the analysis is stored in \"analisis\" variable.\n",
        "print('Done!')"
      ],
      "execution_count": null,
      "outputs": []
    },
    {
      "cell_type": "markdown",
      "metadata": {
        "id": "k_13VKGg9A7Z"
      },
      "source": [
        "Now all the analysis is stored in \"analisis\" variable. It only remains to iterate over the variable and extract the information: in this case, named entities. How to extract information about syntax, named entities, etc. see [SpaCy 101](https://spacy.io/usage/spacy-101)"
      ]
    },
    {
      "cell_type": "code",
      "metadata": {
        "id": "s7Zqf9ZC6-0N"
      },
      "source": [
        "from google.colab import files\n",
        "\n",
        "entitateak = []\n",
        "\n",
        "def show_ents(doc): #funzionatzen du\n",
        "  if doc.ents: \n",
        "    for ent in doc.ents: \n",
        "     # print(ent.text+' - ' +str(ent.start_char) +' - '+ str(ent.end_char) +' - '+ent.label_) \n",
        "      print(ent.text+'\\t'+str(ent.start_char) +'\\t'+ str(ent.end_char) +'\\t'+ent.label_) \n",
        "    else: print(str(len(doc.ents))+ ' were found')\n",
        "\n",
        "def one_ent(doc): #funzionatzen du\n",
        "  if doc.ents: \n",
        "    for ent in doc.ents: \n",
        "      if ent.label_ == 'LOC':\n",
        "        entitateak.append(ent)\n",
        "        print(ent.text+'\\t'+str(ent.start_char) +'\\t'+ str(ent.end_char) +'\\t'+ent.label_)\n",
        "    else: print(str(len(entitateak))+ ' entities were found')\n",
        "\n",
        "def two_ents(doc): #funzionatzen du\n",
        "  if doc.ents: \n",
        "    for ent in doc.ents: \n",
        "      if ent.label_ == 'LOC' or ent.label_ == 'GPE':\n",
        "        entitateak.append(ent)\n",
        "        print(ent.text+'\\t'+str(ent.start_char) +'\\t'+ str(ent.end_char) +'\\t'+ent.label_)\n",
        "    else: print(str(len(entitateak))+ ' location entities were found')\n",
        "\n",
        "\n",
        "\n",
        "#################################PROGRAMA#########################################\n",
        "\n",
        "#show_ents(analisis)\n",
        "\n",
        "#one_ent(analisis)\n",
        "\n",
        "two_ents(analisis)\n",
        "\n",
        "########################ENTITY TYPES#############################\n",
        "# CARDINAL, PERSON, ORG, GPE, NORP, EVENT, DATE, WORK_OF_ART, TIME, PRODUCT, LOC LANGUAGE, FAC, ORDINAL\n",
        "\n",
        "\n",
        "####################################EXTRA###########################################\n",
        "\n",
        "locs = []\n",
        "unique_loc = []\n",
        "\n",
        "with open(\"arlen.csv\", \"w\") as output:\n",
        "  for ent in analisis.ents: \n",
        "    if ent.label_ == 'LOC' or ent.label_ == 'GPE':\n",
        "      locs.append(ent.lemma_) #\n",
        "      if ent.lemma_ not in unique_loc:\n",
        "        unique_loc.append(ent.lemma_)\n",
        "        output.write(f\"{ent.text}\\n\")\n",
        "    # elif token.pos_ == 'VERB':\n",
        "    #   verbs.append(token.lemma_) #\n",
        "    #   if token.lemma_ not in unique_verb:\n",
        "    #      unique_verb.append(token.lemma_)\n",
        "    # elif token.pos_ == 'ADJ':\n",
        "    #   adjs.append(token.lemma_) #\n",
        "    #   if token.lemma_ not in unique_adj:\n",
        "    #      unique_adj.append(token.lemma_)\n",
        "\n",
        "\n",
        "\n",
        "\n",
        "\n",
        "# entitateak_out = ''\n",
        "# if doc.ents:\n",
        "#   for entitate in entitateak:\n",
        "#    entitateak.sort()\n",
        "#    entity = entitateak[0]\n",
        "#    enttype = entitateak[3]\n",
        "#    entitateak_out+=str(entity)+'\\t'+str(enttype)+'\\n'\n",
        "\n",
        "# print(entitateak_out)\n",
        "\n",
        "\n",
        "#out = open('chosen_entities.csv', 'w') #Opens a file in write mode (\"w\").\n",
        "#out.write(entitateak) # \"Writes\" the content of authors_titles_out in the file\n",
        "#out.close() #Closes the file\n",
        "#files.download('chosen_entities.csv')\n",
        "\n",
        "\n",
        "##################################################################################\n",
        "\n",
        "\n"
      ],
      "execution_count": null,
      "outputs": []
    },
    {
      "cell_type": "code",
      "source": [
        "#num_pers = str(len(pers))\n",
        "\n",
        "#print(num_pers)\n",
        "\n",
        "#NVA = '\\tNovel\\tORG\\tPER\\tGEO\\tGPE\\tTIM\\tART\\tEVE\\tNAT\\n' #\n",
        "#NVA = '\\tNovel\\tNouns\\tVerbs\\tAdjectives\\tUnique_nouns\\tUnique_verbs\\tUnique_adjs\\tNER\\n' #\n",
        "\n",
        "#nom_novela = 'Yeats'\n",
        "#nom_novela = novela_name\n",
        "\n",
        "#novela=novela_text\n",
        "\n",
        "#unique_ent=[]\n",
        "\n",
        "#orgs=[]\n",
        "#pers=[]\n",
        "#geos=[]\n",
        "#geps=[]\n",
        "#tims=[]\n",
        "#arts=[]\n",
        "#eves=[]\n",
        "#nats=[]\n",
        "\n",
        "\n",
        "\n",
        "\n",
        "\n",
        "#for ent in analisis.ents: \n",
        " # if ent.ent_type == 'B-geo':\n",
        "  #  eves.append(token.lemma_) #\n",
        " # elif token.pos_ == 'VERB':\n",
        "  #  verbs.append(token.lemma_) #\n",
        "   # if token.lemma not in unique_verb:\n",
        "    #   unique_verb.append(token.lemma)\n",
        " # elif token.pos_ == 'ADJ':\n",
        "  #  adjs.append(token.lemma_) #\n",
        "   # if token.lemma not in unique_adj:\n",
        "    #   unique_adj.append(token.lemma)\n",
        "\n",
        "\n",
        "#num_nouns = str(len(nouns))\n",
        "#num_verbs = str(len(verbs))\n",
        "#num_adjs = str(len(adjs))\n",
        "#num_uninouns = str (len(unique_noun))\n",
        "#num_univerbs = str (len(unique_verb))\n",
        "#num_uniadjs = str (len(unique_adj))\n",
        "#num_eves = str(len(ners))\n",
        "\n",
        "#NVA += '\\t'+nom_novela+'\\t'+num_nouns+'\\t'+num_verbs+'\\t'+num_adjs+'\\t'+num_uninouns+'\\t'+num_univerbs+'\\t'+num_uniadjs+'\\t'+num_eves+'\\n' #\n",
        "\n",
        "#print(NVA)\n",
        "\n",
        "#salida = open('analisis_soloNombres.txt', 'w') #Crea fichero, etc.\n",
        "#salida.write(corpus_soloNombres)\n",
        "#salida.close()\n",
        "#files.download('analisis_soloNombres.txt')\n",
        "\n",
        "#out = open('author_titles.csv', 'w') #Opens a file in write mode (\"w\").\n",
        "#out.write(authors_titles_out) # \"Writes\" the content of authors_titles_out in the file\n",
        "#out.close() #Closes the file\n",
        "#files.download('author_titles.csv')"
      ],
      "metadata": {
        "id": "PImxzB8WBWi5"
      },
      "execution_count": null,
      "outputs": []
    }
  ]
}