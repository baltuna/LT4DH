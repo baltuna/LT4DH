{
  "nbformat": 4,
  "nbformat_minor": 0,
  "metadata": {
    "colab": {
      "provenance": [],
      "toc_visible": true,
      "include_colab_link": true
    },
    "kernelspec": {
      "name": "python3",
      "display_name": "Python 3"
    },
    "language_info": {
      "name": "python"
    }
  },
  "cells": [
    {
      "cell_type": "markdown",
      "metadata": {
        "id": "view-in-github",
        "colab_type": "text"
      },
      "source": [
        "<a href=\"https://colab.research.google.com/github/baltuna/LT4DH/blob/main/ELTeC_ExtractAuthorTitleGender.ipynb\" target=\"_parent\"><img src=\"https://colab.research.google.com/assets/colab-badge.svg\" alt=\"Open In Colab\"/></a>"
      ]
    },
    {
      "cell_type": "markdown",
      "metadata": {
        "id": "sltxVqCyjYoy"
      },
      "source": [
        "# Extracting author, title and gender and more from ELTeC corpus\n",
        "\n",
        "Adaptation of a great Colab by Borja Navarro for the LT4DH course in the University of the Basque Country.\n",
        "\n",
        "This version (to be cleaned) uses English resources in contrast to the Spanish one used by Borja Navarro.\n",
        "\n",
        "Original reference here:\n",
        "\n",
        "Borja Navarro Colorado | University of Alicante\n",
        "\n",
        "This notebook contains basic Python code to extract information from the ELTeC corpus (https://github.com/COST-ELTeC)\n"
      ]
    },
    {
      "cell_type": "markdown",
      "metadata": {
        "id": "6qo2cbr3jfNl"
      },
      "source": [
        "## Loading ELTeC corpus in Colab\n",
        "\n",
        "Only ELTeC-ENG will be loaded.\n",
        "\n",
        "Corpus URL is https://github.com/COST-ELTeC/ELTeC-eng > \"code\" > copy \"Download ZIP\"\n",
        "\n",
        "To load other collection (other languages): https://github.com/COST-ELTeC"
      ]
    },
    {
      "cell_type": "code",
      "metadata": {
        "id": "NR0jsHePi3hz"
      },
      "source": [
        "import zipfile\n",
        "\n",
        "!wget \"https://github.com/COST-ELTeC/ELTeC-eng/archive/refs/heads/master.zip\" # paste here corpus url\n",
        "\n",
        "zip_ref = zipfile.ZipFile('master.zip', 'r') #Opens the zip file in read mode\n",
        "zip_ref.extractall() #Extracts files here (/content/)\n",
        "zip_ref.close() \n",
        "!rm master.zip #Removes ZIP to save space\n"
      ],
      "execution_count": null,
      "outputs": []
    },
    {
      "cell_type": "markdown",
      "metadata": {
        "id": "DhuRJ_kNnOnF"
      },
      "source": [
        "Now, the novels with the XML-TEI annotation are in this directory:\n",
        "\n",
        "/content/ELTeC-eng-master/level1/\n",
        "\n",
        "It is the level 1 that contains novels annotated with XML-TEI tags: header, structure and other textual data. See encoding guidelines:\n",
        "\n",
        "https://distantreading.github.io/Training/Budapest/encodingGuide-1.html\n",
        "\n",
        "https://distantreading.github.io/Training/Budapest/encodingGuide-2.html#(1)\n",
        "\n",
        "Level 0 will contain novels in plain texts (currently is empty)\n",
        "\n",
        "Leve 2 will contain novels annotated with Part of Speech and lemmas (soon).\n"
      ]
    },
    {
      "cell_type": "markdown",
      "metadata": {
        "id": "vQr4fyCXnh51"
      },
      "source": [
        "## List the files\n",
        "\n",
        "To see the files of each novel, we can iterate over the directory \"level1\":"
      ]
    },
    {
      "cell_type": "code",
      "metadata": {
        "id": "dnpBF1-CprMB"
      },
      "source": [
        "import os\n",
        "\n",
        "dir_in = \"/content/ELTeC-eng-master/level1/\"\n",
        "\n",
        "for base, directorios, ficheros in os.walk(dir_in): #Go through directory and open file one by one\n",
        "  for fichero in ficheros: #the iteration begins\n",
        "    if fichero[0:3] == \"ENG\": #to avoid open README file\n",
        "      print(fichero) # to see the name of each file\n"
      ],
      "execution_count": null,
      "outputs": []
    },
    {
      "cell_type": "markdown",
      "metadata": {
        "id": "AXTbiFhNsGIn"
      },
      "source": [
        "## Open each file and extract informatio about author and title\n",
        "\n",
        "To parse XML tags, we will use BeautifulSoup 4:\n",
        "\n",
        "https://beautiful-soup-4.readthedocs.io/en/latest/#quick-start\n",
        "\n",
        "This script is similar to the previous one, but it includes how to open each file and extract information."
      ]
    },
    {
      "cell_type": "code",
      "metadata": {
        "id": "0MB1hnkrsvx8"
      },
      "source": [
        "from bs4 import BeautifulSoup\n",
        "\n",
        "dir_in = \"/content/ELTeC-eng-master/level1/\"\n",
        "\n",
        "metadata = []\n",
        "\n",
        "for base, directorios, ficheros in os.walk(dir_in):\n",
        "  for fichero in ficheros:\n",
        "    ficheroEntrada = base + fichero\n",
        "    directorio = base.split('/')[-1]\n",
        "    if fichero[0:3] == \"ENG\": # Language ID. Change if you are processing text from ther collection.\n",
        "      with open(ficheroEntrada, 'r') as tei: #Opens the file\n",
        "        soup = BeautifulSoup(tei, 'xml') #Parse the XML\n",
        "        print(\"Processing\", ficheroEntrada) #Only to see the process. Comment if it's not important.\n",
        "        title = soup.title.text #extracts the title\n",
        "        author = soup.author.text #extracts author name\n",
        "        gender = soup.authorGender['key']\n",
        "        size = soup.size['key']\n",
        "        reprints = soup.reprintCount['key']\n",
        "        timeslot = soup.timeSlot['key']\n",
        "        metadata.append((author, title, size, reprints, timeslot, gender)) #and stores the information in \"metadata\" variable.\n",
        "        #metadata.append((author, title)) #and stores the information in \"metadata\" variable.\n",
        "\n",
        "for item in metadata:\n",
        "  print(item[0], item[1], item[2], item[3], item[4], item[5]) #Only to show the results.\n"
      ],
      "execution_count": null,
      "outputs": []
    },
    {
      "cell_type": "markdown",
      "metadata": {
        "id": "FArsaISfwEyI"
      },
      "source": [
        "To save results in a file (CSV) and download:"
      ]
    },
    {
      "cell_type": "code",
      "metadata": {
        "colab": {
          "base_uri": "https://localhost:8080/",
          "height": 17
        },
        "id": "-yvuu2G7wELY",
        "outputId": "1a658784-3087-4bc1-c4bf-d17bfce0546d"
      },
      "source": [
        "from google.colab import files\n",
        "\n",
        "metadata_out = ''\n",
        "for item in metadata:\n",
        "  author = item[0]\n",
        "  title = item[1]\n",
        "  gender = item[5]\n",
        "  size = item[2]\n",
        "  reprints = item[3]\n",
        "  timeslot = item[4]\n",
        "  metadata_out+=author+'\\t'+title+'\\t'+gender+'\\t'+size+'\\t'+reprints+'\\t'+timeslot+'\\n'\n",
        "\n",
        "out = open('metadata.csv', 'w') #Opens a file in write mode (\"w\").\n",
        "out.write(metadata_out) # \"Writes\" the content of metadata_out in the file\n",
        "out.close() #Closes the file\n",
        "\n",
        "files.download('metadata.csv') #To download the file. Now you can open it with a spreadsheet application."
      ],
      "execution_count": 5,
      "outputs": [
        {
          "output_type": "display_data",
          "data": {
            "text/plain": [
              "<IPython.core.display.Javascript object>"
            ],
            "application/javascript": [
              "\n",
              "    async function download(id, filename, size) {\n",
              "      if (!google.colab.kernel.accessAllowed) {\n",
              "        return;\n",
              "      }\n",
              "      const div = document.createElement('div');\n",
              "      const label = document.createElement('label');\n",
              "      label.textContent = `Downloading \"${filename}\": `;\n",
              "      div.appendChild(label);\n",
              "      const progress = document.createElement('progress');\n",
              "      progress.max = size;\n",
              "      div.appendChild(progress);\n",
              "      document.body.appendChild(div);\n",
              "\n",
              "      const buffers = [];\n",
              "      let downloaded = 0;\n",
              "\n",
              "      const channel = await google.colab.kernel.comms.open(id);\n",
              "      // Send a message to notify the kernel that we're ready.\n",
              "      channel.send({})\n",
              "\n",
              "      for await (const message of channel.messages) {\n",
              "        // Send a message to notify the kernel that we're ready.\n",
              "        channel.send({})\n",
              "        if (message.buffers) {\n",
              "          for (const buffer of message.buffers) {\n",
              "            buffers.push(buffer);\n",
              "            downloaded += buffer.byteLength;\n",
              "            progress.value = downloaded;\n",
              "          }\n",
              "        }\n",
              "      }\n",
              "      const blob = new Blob(buffers, {type: 'application/binary'});\n",
              "      const a = document.createElement('a');\n",
              "      a.href = window.URL.createObjectURL(blob);\n",
              "      a.download = filename;\n",
              "      div.appendChild(a);\n",
              "      a.click();\n",
              "      div.remove();\n",
              "    }\n",
              "  "
            ]
          },
          "metadata": {}
        },
        {
          "output_type": "display_data",
          "data": {
            "text/plain": [
              "<IPython.core.display.Javascript object>"
            ],
            "application/javascript": [
              "download(\"download_ae78f9aa-2ed1-4049-83dc-a879328d7bef\", \"metadata.csv\", 9019)"
            ]
          },
          "metadata": {}
        }
      ]
    },
    {
      "cell_type": "markdown",
      "metadata": {
        "id": "JQBg4L1oyxjO"
      },
      "source": [
        "# Open each file and extract information about author and gender\n",
        "\n",
        "Now let's see female and male authors. "
      ]
    },
    {
      "cell_type": "code",
      "metadata": {
        "id": "2M87naQ3zDVZ"
      },
      "source": [
        "dir_in = \"/content/ELTeC-eng-master/level1/\"\n",
        "\n",
        "females = []\n",
        "males = []\n",
        "\n",
        "for base, directorios, ficheros in os.walk(dir_in): #Go through directory and open file one by one\n",
        "  for fichero in ficheros:\n",
        "    ficheroEntrada = base + fichero\n",
        "    if fichero[0:3] == \"ENG\": # Language ID. Change if you are processing text from ther collection.\n",
        "      with open(ficheroEntrada, 'r') as tei:\n",
        "        soup = BeautifulSoup(tei, 'xml')\n",
        "        print(\"Processing\", ficheroEntrada)\n",
        "        author = soup.author.text # Extract author\n",
        "        gender = soup.authorGender[\"key\"] # Extract gender\n",
        "        if gender == 'F':\n",
        "          if author not in females: \n",
        "            females.append(author) #stores the information\n",
        "          \n",
        "        elif gender == 'M':\n",
        "          if author not in males:\n",
        "            males.append(author)  #stores the information\n",
        "\n",
        "results = [len(females), len(males)] # Counts the number of female and male authors.\n",
        "print(\"Results:\\n\\tFemale: \"+str(len(females))+\"\\n\\tMale: \"+str(len(males))) # shows results\n",
        "\n",
        "females_out = '' # To store the names of females authors in string format\n",
        "males_out = '' # Idem male authors\n",
        "\n",
        "for item in females: #Extract each name and write it in \"out\" variable (as string).\n",
        "  females_out+=item+'\\n'\n",
        "for item in males:\n",
        "  males_out+=item+'\\n'\n",
        "\n",
        "outF = open('author_females.txt', 'w') #Opens a file in write mode (\"w\").\n",
        "outM = open('author_males.txt', 'w') #Opens a file in write mode (\"w\").\n",
        "outF.write(females_out) # \"Writes\" the content of \"female_out\" in the file\n",
        "outF.close() #Closes the file\n",
        "outM.write(males_out) # \"Writes\" the content of \"male_out\" in the file\n",
        "outM.close() #Closes the file\n",
        "\n",
        "files.download('author_females.txt')\n",
        "files.download('author_males.txt')\n"
      ],
      "execution_count": null,
      "outputs": []
    },
    {
      "cell_type": "markdown",
      "metadata": {
        "id": "WhJUbSwUF7AP"
      },
      "source": [
        "### Plotting"
      ]
    },
    {
      "cell_type": "code",
      "metadata": {
        "id": "MclHZ84ZF5im"
      },
      "source": [
        "import matplotlib.pyplot as plt\n",
        "\n",
        "x = ['Female', 'Male'] \n",
        "y = results #data\n",
        "plt.bar(x,y) #Creates the plot\n",
        "plt.xlabel('Gender')\n",
        "plt.title('Gender distribution in ELTeC-SPA')\n",
        "plt.show()\n",
        "\n",
        "#For test: calculate percentage\n",
        "#total = results[0]+results[1]\n",
        "#data = [(results[0]*100/total), (results[1]*100/total)]\n"
      ],
      "execution_count": null,
      "outputs": []
    },
    {
      "cell_type": "markdown",
      "source": [
        "# Open each file and extract information about gender and work length\n",
        "\n",
        "See the lengths of the works written by men and women. "
      ],
      "metadata": {
        "id": "4FOeHFt2SgeX"
      }
    },
    {
      "cell_type": "code",
      "metadata": {
        "id": "L3Av78wYSSy9"
      },
      "source": [
        "dir_in = \"/content/ELTeC-eng-master/level1/\"\n",
        "\n",
        "females = []\n",
        "males = []\n",
        "\n",
        "longfem = []\n",
        "mediumfem = []\n",
        "shortfem = []\n",
        "\n",
        "longmal = []\n",
        "mediummal = []\n",
        "shortmal = []\n",
        "\n",
        "for base, directorios, ficheros in os.walk(dir_in): #Go through directory and open file one by one\n",
        "  for fichero in ficheros:\n",
        "    ficheroEntrada = base + fichero\n",
        "    if fichero[0:3] == \"ENG\": # Language ID. Change if you are processing text from ther collection.\n",
        "      with open(ficheroEntrada, 'r') as tei:\n",
        "        soup = BeautifulSoup(tei, 'xml')\n",
        "        print(\"Processing\", ficheroEntrada)\n",
        "        author = soup.author.text # Extract author\n",
        "        gender = soup.authorGender[\"key\"] # Extract gender\n",
        "        size = soup.size['key']\n",
        "        if gender == 'F' and size == 'long':\n",
        "          if author not in longfem: \n",
        "            longfem.append(author) #stores the information\n",
        "        elif gender == 'F' and size == 'medium':\n",
        "          if author not in mediumfem: \n",
        "            mediumfem.append(author) #stores the information\n",
        "        elif gender == 'F' and size == 'short':\n",
        "          if author not in shortfem: \n",
        "            shortfem.append(author) #stores the information          \n",
        "        elif gender == 'M' and size == 'long':\n",
        "          if author not in longmal: \n",
        "            longmal.append(author) #stores the information\n",
        "        elif gender == 'M' and size == 'medium':\n",
        "          if author not in mediummal: \n",
        "            mediummal.append(author) #stores the information\n",
        "        elif gender == 'M' and size == 'short':\n",
        "          if author not in shortmal: \n",
        "            shortmal.append(author) #stores the information    \n",
        "\n",
        "\n",
        "resultsfem = [len(longfem), len(mediumfem), len(shortfem)] # Counts the number of female and male authors.\n",
        "resultsmal = [len(longmal), len(mediummal), len(shortmal)]\n",
        "print(\"Results:\\t Long \\t Medium \\t Short \\nFemale \\t\"+str(len(longfem))+'\\t'+str(len(mediumfem))+'\\t'+str(len(shortfem))+\"\\nMale \\t\"+str(len(longmal))+'\\t'+str(len(mediummal))+'\\t'+str(len(shortmal))+'\\n') # shows results\n",
        "\n",
        "# females_out = '' # To store the names of females authors in string format\n",
        "# males_out = '' # Idem male authors\n",
        "\n",
        "# for item in females: #Extract each name and write it in \"out\" variable (as string).\n",
        "#   females_out+=item+'\\n'\n",
        "# for item in males:\n",
        "#   males_out+=item+'\\n'\n",
        "\n",
        "# outF = open('author_females.txt', 'w') #Opens a file in write mode (\"w\").\n",
        "# outM = open('author_males.txt', 'w') #Opens a file in write mode (\"w\").\n",
        "# outF.write(females_out) # \"Writes\" the content of \"female_out\" in the file\n",
        "# outF.close() #Closes the file\n",
        "# outM.write(males_out) # \"Writes\" the content of \"male_out\" in the file\n",
        "# outM.close() #Closes the file\n",
        "\n",
        "# files.download('author_females.txt')\n",
        "# files.download('author_males.txt')\n"
      ],
      "execution_count": null,
      "outputs": []
    },
    {
      "cell_type": "code",
      "metadata": {
        "id": "s0LcgNs1Rq0a"
      },
      "source": [
        "import matplotlib.pyplot as plt\n",
        "\n",
        "x = ['Long', 'Medium', 'Short'] \n",
        "y = resultsfem #data\n",
        "plt.bar(x,y) #Creates the plot\n",
        "plt.xlabel('Female')\n",
        "plt.title('Length of works written by women')\n",
        "plt.show()\n",
        "\n",
        "x = ['Long', 'Medium', 'Short'] \n",
        "y = resultsmal #data\n",
        "plt.bar(x,y) #Creates the plot\n",
        "plt.xlabel('Male')\n",
        "plt.title('Length of works written by men')\n",
        "plt.show()\n",
        "\n",
        "#For test: calculate percentage\n",
        "#total = resultsfem[0]+resultsfem[1]+resultsfem[2]\n",
        "#data = [(results[0]*100/total), (results[1]*100/total), (results[2]*100/total)]\n",
        "\n",
        "#print(total)\n",
        "#print(data)\n"
      ],
      "execution_count": null,
      "outputs": []
    }
  ]
}